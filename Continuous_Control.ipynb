{
 "cells": [
  {
   "cell_type": "markdown",
   "metadata": {},
   "source": [
    "# Continuous Control\n",
    "\n",
    "---\n",
    "\n",
    "You are welcome to use this coding environment to train your agent for the project.  Follow the instructions below to get started!\n",
    "\n",
    "### 1. Start the Environment\n",
    "\n",
    "Run the next code cell to install a few packages.  This line will take a few minutes to run!"
   ]
  },
  {
   "cell_type": "code",
   "execution_count": 1,
   "metadata": {},
   "outputs": [],
   "source": [
    "!pip -q install ./python"
   ]
  },
  {
   "cell_type": "markdown",
   "metadata": {},
   "source": [
    "The environments corresponding to both versions of the environment are already saved in the Workspace and can be accessed at the file paths provided below.  \n",
    "\n",
    "Please select one of the two options below for loading the environment."
   ]
  },
  {
   "cell_type": "code",
   "execution_count": 2,
   "metadata": {},
   "outputs": [
    {
     "name": "stderr",
     "output_type": "stream",
     "text": [
      "INFO:unityagents:\n",
      "'Academy' started successfully!\n",
      "Unity Academy name: Academy\n",
      "        Number of Brains: 1\n",
      "        Number of External Brains : 1\n",
      "        Lesson number : 0\n",
      "        Reset Parameters :\n",
      "\t\tgoal_size -> 5.0\n",
      "\t\tgoal_speed -> 1.0\n",
      "Unity brain name: ReacherBrain\n",
      "        Number of Visual Observations (per agent): 0\n",
      "        Vector Observation space type: continuous\n",
      "        Vector Observation space size (per agent): 33\n",
      "        Number of stacked Vector Observation: 1\n",
      "        Vector Action space type: continuous\n",
      "        Vector Action space size (per agent): 4\n",
      "        Vector Action descriptions: , , , \n"
     ]
    }
   ],
   "source": [
    "from unityagents import UnityEnvironment\n",
    "import numpy as np\n",
    "\n",
    "# select this option to load version 1 (with a single agent) of the environment\n",
    "#env = UnityEnvironment(file_name='/data/Reacher_One_Linux_NoVis/Reacher_One_Linux_NoVis.x86_64')\n",
    "\n",
    "# select this option to load version 2 (with 20 agents) of the environment\n",
    "env = UnityEnvironment(file_name='/data/Reacher_Linux_NoVis/Reacher.x86_64')"
   ]
  },
  {
   "cell_type": "markdown",
   "metadata": {},
   "source": [
    "Environments contain **_brains_** which are responsible for deciding the actions of their associated agents. Here we check for the first brain available, and set it as the default brain we will be controlling from Python."
   ]
  },
  {
   "cell_type": "code",
   "execution_count": 3,
   "metadata": {},
   "outputs": [],
   "source": [
    "# get the default brain\n",
    "brain_name = env.brain_names[0]\n",
    "brain = env.brains[brain_name]"
   ]
  },
  {
   "cell_type": "markdown",
   "metadata": {},
   "source": [
    "### 2. Examine the State and Action Spaces\n",
    "\n",
    "Run the code cell below to print some information about the environment."
   ]
  },
  {
   "cell_type": "code",
   "execution_count": 4,
   "metadata": {},
   "outputs": [
    {
     "name": "stdout",
     "output_type": "stream",
     "text": [
      "Number of agents: 20\n",
      "Size of each action: 4\n",
      "There are 20 agents. Each observes a state with length: 33\n",
      "The state for the first agent looks like: [  0.00000000e+00  -4.00000000e+00   0.00000000e+00   1.00000000e+00\n",
      "  -0.00000000e+00  -0.00000000e+00  -4.37113883e-08   0.00000000e+00\n",
      "   0.00000000e+00   0.00000000e+00   0.00000000e+00   0.00000000e+00\n",
      "   0.00000000e+00   0.00000000e+00  -1.00000000e+01   0.00000000e+00\n",
      "   1.00000000e+00  -0.00000000e+00  -0.00000000e+00  -4.37113883e-08\n",
      "   0.00000000e+00   0.00000000e+00   0.00000000e+00   0.00000000e+00\n",
      "   0.00000000e+00   0.00000000e+00   5.75471878e+00  -1.00000000e+00\n",
      "   5.55726624e+00   0.00000000e+00   1.00000000e+00   0.00000000e+00\n",
      "  -1.68164849e-01]\n"
     ]
    }
   ],
   "source": [
    "# reset the environment\n",
    "env_info = env.reset(train_mode=True)[brain_name]\n",
    "\n",
    "# number of agents\n",
    "num_agents = len(env_info.agents)\n",
    "print('Number of agents:', num_agents)\n",
    "\n",
    "# size of each action\n",
    "action_size = brain.vector_action_space_size\n",
    "print('Size of each action:', action_size)\n",
    "\n",
    "# examine the state space \n",
    "states = env_info.vector_observations\n",
    "state_size = states.shape[1]\n",
    "print('There are {} agents. Each observes a state with length: {}'.format(states.shape[0], state_size))\n",
    "print('The state for the first agent looks like:', states[0])"
   ]
  },
  {
   "cell_type": "markdown",
   "metadata": {},
   "source": [
    "### 3. Take Random Actions in the Environment\n",
    "\n",
    "In the next code cell, you will learn how to use the Python API to control the agent and receive feedback from the environment.\n",
    "\n",
    "Note that **in this coding environment, you will not be able to watch the agents while they are training**, and you should set `train_mode=True` to restart the environment."
   ]
  },
  {
   "cell_type": "code",
   "execution_count": 5,
   "metadata": {},
   "outputs": [
    {
     "name": "stdout",
     "output_type": "stream",
     "text": [
      "Total score (averaged over agents) this episode: 0.11999999731779099\n"
     ]
    }
   ],
   "source": [
    "env_info = env.reset(train_mode=False)[brain_name]      # reset the environment    \n",
    "states = env_info.vector_observations                  # get the current state (for each agent)\n",
    "scores = np.zeros(num_agents)                          # initialize the score (for each agent)\n",
    "while True:\n",
    "    actions = np.random.randn(num_agents, action_size) # select an action (for each agent)\n",
    "    actions = np.clip(actions, -1, 1)                  # all actions between -1 and 1\n",
    "    env_info = env.step(actions)[brain_name]           # send all actions to tne environment\n",
    "    next_states = env_info.vector_observations         # get next state (for each agent)\n",
    "    rewards = env_info.rewards                         # get reward (for each agent)\n",
    "    dones = env_info.local_done                        # see if episode finished\n",
    "    scores += env_info.rewards                         # update the score (for each agent)\n",
    "    states = next_states                               # roll over states to next time step\n",
    "    if np.any(dones):                                  # exit loop if episode finished\n",
    "        break\n",
    "print('Total score (averaged over agents) this episode: {}'.format(np.mean(scores)))"
   ]
  },
  {
   "cell_type": "markdown",
   "metadata": {},
   "source": [
    "When finished, you can close the environment."
   ]
  },
  {
   "cell_type": "code",
   "execution_count": 6,
   "metadata": {},
   "outputs": [],
   "source": [
    "#env.close()"
   ]
  },
  {
   "cell_type": "markdown",
   "metadata": {},
   "source": [
    "### 4. It's Your Turn!\n",
    "\n",
    "Now it's your turn to train your own agent to solve the environment!  A few **important notes**:\n",
    "- When training the environment, set `train_mode=True`, so that the line for resetting the environment looks like the following:\n",
    "```python\n",
    "env_info = env.reset(train_mode=True)[brain_name]\n",
    "```\n",
    "- To structure your work, you're welcome to work directly in this Jupyter notebook, or you might like to start over with a new file!  You can see the list of files in the workspace by clicking on **_Jupyter_** in the top left corner of the notebook.\n",
    "- In this coding environment, you will not be able to watch the agents while they are training.  However, **_after training the agents_**, you can download the saved model weights to watch the agents on your own machine! "
   ]
  },
  {
   "cell_type": "markdown",
   "metadata": {},
   "source": [
    "### 5. Import necessary packages"
   ]
  },
  {
   "cell_type": "code",
   "execution_count": 7,
   "metadata": {},
   "outputs": [],
   "source": [
    "import random\n",
    "import torch\n",
    "import numpy as np\n",
    "from collections import deque\n",
    "import matplotlib.pyplot as plt\n",
    "import time\n",
    "from itertools import count\n",
    "import datetime\n",
    "\n",
    "%matplotlib inline\n"
   ]
  },
  {
   "cell_type": "markdown",
   "metadata": {},
   "source": [
    "### 6. Import the DDPG agent"
   ]
  },
  {
   "cell_type": "code",
   "execution_count": 8,
   "metadata": {},
   "outputs": [],
   "source": [
    "from ddpg import DDPG, ReplayBuffer"
   ]
  },
  {
   "cell_type": "markdown",
   "metadata": {},
   "source": [
    "### 7. Hyperparameters"
   ]
  },
  {
   "cell_type": "code",
   "execution_count": 9,
   "metadata": {},
   "outputs": [],
   "source": [
    "BUFFER_SIZE = int(5e5)  # replay buffer size\n",
    "CACHE_SIZE = int(6e4)\n",
    "BATCH_SIZE = 256        # minibatch size\n",
    "GAMMA = 0.99            # discount factor\n",
    "TAU = 1e-3              # for soft update of target parameters\n",
    "LR_ACTOR = 1e-3         # learning rate of the actor\n",
    "LR_CRITIC = 1e-3        # learning rate of the critic\n",
    "WEIGHT_DECAY = 0        # L2 weight decay\n",
    "UPDATE_EVERY = 20       # timesteps between updates\n",
    "NUM_UPDATES = 15        # num of update passes when updating\n",
    "EPSILON = 1.0           # epsilon for the noise process added to the actions\n",
    "EPSILON_DECAY = 1e-6    # decay for epsilon above\n",
    "NOISE_SIGMA = 0.05\n",
    "# 96 Neurons solves the environment consistently and usually fastest\n",
    "fc1_units=96\n",
    "fc2_units=96\n",
    "\n",
    "random_seed=23"
   ]
  },
  {
   "cell_type": "markdown",
   "metadata": {},
   "source": [
    "### 8. Train the DDPG agent"
   ]
  },
  {
   "cell_type": "code",
   "execution_count": 10,
   "metadata": {},
   "outputs": [
    {
     "data": {
      "text/plain": [
       "<function __main__.store(buffers, states, actions, rewards, next_states, dones, timestep)>"
      ]
     },
     "execution_count": 10,
     "metadata": {},
     "output_type": "execute_result"
    }
   ],
   "source": [
    "def store(buffers, states, actions, rewards, next_states, dones, timestep):\n",
    "    memory, cache = buffers\n",
    "    for state, action, reward, next_state, done in zip(states, actions, rewards, next_states, dones):\n",
    "        memory.add(state, action, reward, next_state, done)\n",
    "        cache.add(state, action, reward, next_state, done)\n",
    "store"
   ]
  },
  {
   "cell_type": "code",
   "execution_count": 11,
   "metadata": {},
   "outputs": [
    {
     "data": {
      "text/plain": [
       "<function __main__.learn(agent, buffers, timestep)>"
      ]
     },
     "execution_count": 11,
     "metadata": {},
     "output_type": "execute_result"
    }
   ],
   "source": [
    "def learn(agent, buffers, timestep):\n",
    "    memory, cache = buffers\n",
    "    if len(memory) > BATCH_SIZE and timestep % UPDATE_EVERY == 0:            \n",
    "        for _ in range(NUM_UPDATES):\n",
    "            experiences = memory.sample()\n",
    "            agent.learn(experiences, GAMMA)\n",
    "        for _ in range(3):\n",
    "            experiences = cache.sample()\n",
    "            agent.learn(experiences, GAMMA)\n",
    "learn  "
   ]
  },
  {
   "cell_type": "code",
   "execution_count": 14,
   "metadata": {},
   "outputs": [
    {
     "data": {
      "text/plain": [
       "<function __main__.ddpg(agent, buffers, n_episodes=200, stopOnSolved=True)>"
      ]
     },
     "execution_count": 14,
     "metadata": {},
     "output_type": "execute_result"
    }
   ],
   "source": [
    "avg_over = 100\n",
    "print_every = 10\n",
    "\n",
    "def ddpg(agent, buffers, n_episodes=200, stopOnSolved=True):\n",
    "    print('Start: ',datetime.datetime.now())\n",
    "    scores_deque = deque(maxlen=avg_over)\n",
    "    scores_global = []\n",
    "    average_global = []\n",
    "    min_global = []\n",
    "    max_global = []\n",
    "    best_avg = -np.inf\n",
    "\n",
    "    tic = time.time()\n",
    "    print('\\rEpis,EpAvg,GlAvg,  Max,  Min, Time')\n",
    "    for i_episode in range(1, n_episodes+1):\n",
    "        env_info = env.reset(train_mode=True)[brain_name]      # reset the environment    \n",
    "        states = env_info.vector_observations                  # get the current state (for each agent)\n",
    "        scores = np.zeros(num_agents)                          # initialize the score (for each agent)\n",
    "        agent.reset()\n",
    "        \n",
    "        score_average = 0\n",
    "        timestep = time.time()\n",
    "        for t in count():\n",
    "            actions = agent.act(states, add_noise=True)\n",
    "            env_info = env.step(actions)[brain_name]           # send all actions to tne environment\n",
    "            next_states = env_info.vector_observations         # get next state (for each agent)\n",
    "            rewards = env_info.rewards                         # get reward (for each agent)\n",
    "            dones = env_info.local_done                        # see if episode finished            \n",
    "            store(buffers, states, actions, rewards, next_states, dones, t)\n",
    "            learn(agent, buffers, t)\n",
    "            states = next_states                               # roll over states to next time step\n",
    "            scores += rewards                                  # update the score (for each agent)            \n",
    "            if np.any(dones):                                  # exit loop if episode finished\n",
    "                break\n",
    "        \n",
    "        score = np.mean(scores)        \n",
    "        scores_deque.append(score)\n",
    "        score_average = np.mean(scores_deque)\n",
    "        scores_global.append(score)\n",
    "        average_global.append(score_average)  \n",
    "        min_global.append(np.min(scores))  \n",
    "        max_global.append(np.max(scores))  \n",
    "        print('\\r {}, {:.2f}, {:.2f}, {:.2f}, {:.2f}, {:.2f}'\\\n",
    "              .format(str(i_episode).zfill(3), score, score_average, np.max(scores), \n",
    "                      np.min(scores), time.time() - timestep), end=\"\\n\")        \n",
    "        if i_episode % print_every == 0:\n",
    "            agent.save('./')            \n",
    "        if  stopOnSolved and score_average >= 30.0:            \n",
    "            toc = time.time()\n",
    "            print('\\nSolved in {:d} episodes!\\tAvg Score: {:.2f}, time: {}'.format(i_episode, score_average, toc-tic))\n",
    "            agent.save('./'+str(i_episode)+'_')\n",
    "            break\n",
    "     \n",
    "    print('End: ',datetime.datetime.now())\n",
    "    return scores_global, average_global, max_global, min_global\n",
    "\n",
    "ddpg"
   ]
  },
  {
   "cell_type": "code",
   "execution_count": 15,
   "metadata": {},
   "outputs": [
    {
     "name": "stdout",
     "output_type": "stream",
     "text": [
      "Start:  2019-01-23 02:04:11.495347\n",
      "Epis,EpAvg,GlAvg,  Max,  Min, Time\n",
      " 001, 0.94, 0.94, 1.92, 0.22, 18.05\n",
      " 002, 1.04, 0.99, 2.01, 0.12, 18.23\n",
      " 003, 1.24, 1.07, 2.95, 0.31, 18.27\n",
      " 004, 0.97, 1.05, 2.07, 0.29, 18.59\n",
      " 005, 1.16, 1.07, 2.20, 0.54, 18.59\n",
      " 006, 1.29, 1.11, 2.26, 0.47, 18.87\n",
      " 007, 1.03, 1.09, 2.06, 0.18, 19.09\n",
      " 008, 1.24, 1.11, 2.07, 0.68, 19.06\n",
      " 009, 1.18, 1.12, 2.95, 0.09, 19.03\n",
      " 010, 1.54, 1.16, 2.43, 0.26, 19.65\n",
      " 011, 2.42, 1.28, 7.97, 0.62, 19.63\n",
      " 012, 2.89, 1.41, 5.96, 0.87, 19.87\n",
      " 013, 2.46, 1.49, 5.08, 0.54, 20.12\n",
      " 014, 3.28, 1.62, 5.45, 1.23, 20.55\n",
      " 015, 3.81, 1.77, 8.55, 0.92, 20.77\n",
      " 016, 3.66, 1.88, 6.51, 2.16, 21.23\n",
      " 017, 4.56, 2.04, 6.89, 2.10, 21.25\n",
      " 018, 5.47, 2.23, 8.11, 2.88, 21.65\n",
      " 019, 5.82, 2.42, 9.60, 2.23, 22.00\n",
      " 020, 6.94, 2.65, 12.06, 3.04, 22.47\n",
      " 021, 6.62, 2.84, 13.93, 2.16, 23.18\n",
      " 022, 8.37, 3.09, 15.65, 5.60, 23.40\n",
      " 023, 8.17, 3.31, 11.49, 3.47, 23.65\n",
      " 024, 9.22, 3.55, 12.92, 4.54, 24.22\n",
      " 025, 10.08, 3.82, 17.37, 4.08, 24.46\n",
      " 026, 9.49, 4.03, 14.67, 2.80, 24.49\n",
      " 027, 12.00, 4.33, 16.13, 6.82, 24.73\n",
      " 028, 13.57, 4.66, 17.33, 6.53, 24.78\n",
      " 029, 10.99, 4.88, 16.74, 3.84, 24.70\n",
      " 030, 10.14, 5.05, 15.90, 2.57, 24.63\n",
      " 031, 11.09, 5.25, 19.02, 3.43, 24.63\n",
      " 032, 12.77, 5.48, 21.27, 4.59, 24.65\n",
      " 033, 14.93, 5.77, 24.82, 5.94, 24.64\n",
      " 034, 17.60, 6.12, 26.74, 8.81, 24.90\n",
      " 035, 15.77, 6.39, 22.74, 9.78, 24.61\n",
      " 036, 16.44, 6.67, 21.02, 9.72, 24.71\n",
      " 037, 18.98, 7.00, 24.93, 13.23, 24.86\n",
      " 038, 21.49, 7.39, 28.78, 15.27, 24.60\n",
      " 039, 24.12, 7.81, 29.06, 16.47, 24.66\n",
      " 040, 27.54, 8.31, 34.28, 18.53, 24.50\n",
      " 041, 32.57, 8.90, 39.51, 27.10, 24.65\n",
      " 042, 33.73, 9.49, 38.09, 26.66, 24.56\n",
      " 043, 35.23, 10.09, 38.73, 29.49, 24.68\n",
      " 044, 36.79, 10.70, 39.25, 33.17, 24.68\n",
      " 045, 38.30, 11.31, 39.64, 35.19, 24.64\n",
      " 046, 37.47, 11.88, 39.60, 32.47, 24.56\n",
      " 047, 37.95, 12.43, 39.61, 30.48, 24.87\n",
      " 048, 38.68, 12.98, 39.59, 30.85, 24.48\n",
      " 049, 39.07, 13.51, 39.64, 36.38, 24.84\n",
      " 050, 38.84, 14.02, 39.66, 33.25, 24.62\n",
      " 051, 39.10, 14.51, 39.63, 35.50, 24.60\n",
      " 052, 38.94, 14.98, 39.60, 33.22, 24.58\n",
      " 053, 38.70, 15.43, 39.65, 35.14, 24.77\n",
      " 054, 38.32, 15.85, 39.68, 32.08, 24.63\n",
      " 055, 38.97, 16.27, 39.68, 37.67, 24.65\n",
      " 056, 38.82, 16.68, 39.66, 33.60, 24.56\n",
      " 057, 38.89, 17.06, 39.52, 36.57, 24.71\n",
      " 058, 39.09, 17.44, 39.67, 37.57, 24.58\n",
      " 059, 38.93, 17.81, 39.67, 34.74, 24.86\n",
      " 060, 38.15, 18.15, 39.63, 29.30, 24.71\n",
      " 061, 38.94, 18.49, 39.64, 33.67, 24.67\n",
      " 062, 39.50, 18.83, 39.67, 38.30, 24.65\n",
      " 063, 38.97, 19.15, 39.67, 35.36, 24.62\n",
      " 064, 39.26, 19.46, 39.68, 37.88, 24.76\n",
      " 065, 38.86, 19.76, 39.68, 33.90, 24.71\n",
      " 066, 38.87, 20.05, 39.62, 35.89, 24.67\n",
      " 067, 35.93, 20.29, 38.98, 28.67, 24.58\n",
      " 068, 36.72, 20.53, 38.94, 30.79, 24.62\n",
      " 069, 37.07, 20.77, 39.20, 31.19, 24.52\n",
      " 070, 36.98, 21.00, 39.63, 32.27, 24.65\n",
      " 071, 36.64, 21.22, 39.40, 30.58, 24.64\n",
      " 072, 34.90, 21.41, 38.97, 28.57, 24.95\n",
      " 073, 36.63, 21.62, 39.56, 30.77, 24.53\n",
      " 074, 36.14, 21.81, 39.65, 14.10, 24.69\n",
      " 075, 36.61, 22.01, 38.71, 33.49, 24.77\n",
      " 076, 35.04, 22.18, 39.61, 21.71, 24.69\n",
      " 077, 35.26, 22.35, 39.60, 18.07, 24.65\n",
      " 078, 34.96, 22.51, 38.24, 29.34, 24.71\n",
      " 079, 37.03, 22.70, 39.48, 32.76, 24.61\n",
      " 080, 35.65, 22.86, 39.62, 31.82, 24.78\n",
      " 081, 36.82, 23.03, 39.34, 31.80, 24.62\n",
      " 082, 37.89, 23.21, 39.67, 36.00, 24.65\n",
      " 083, 38.57, 23.40, 39.65, 36.61, 24.65\n",
      " 084, 37.39, 23.57, 39.65, 31.03, 24.74\n",
      " 085, 37.24, 23.73, 39.44, 26.40, 24.83\n",
      " 086, 34.88, 23.86, 39.00, 25.98, 24.77\n",
      " 087, 35.70, 23.99, 39.63, 23.56, 24.64\n",
      " 088, 35.49, 24.12, 38.52, 30.19, 24.58\n",
      " 089, 36.70, 24.26, 39.31, 31.99, 24.68\n",
      " 090, 36.43, 24.40, 38.64, 32.11, 24.66\n",
      " 091, 35.72, 24.52, 38.17, 33.54, 24.55\n",
      " 092, 34.76, 24.63, 39.57, 25.05, 24.61\n",
      " 093, 34.97, 24.75, 38.13, 32.07, 24.61\n",
      " 094, 36.44, 24.87, 39.53, 27.93, 24.56\n",
      " 095, 36.02, 24.99, 39.41, 29.40, 24.67\n",
      " 096, 37.41, 25.12, 39.57, 34.13, 24.63\n",
      " 097, 38.24, 25.25, 39.64, 31.90, 24.98\n",
      " 098, 38.01, 25.38, 39.29, 34.89, 24.58\n",
      " 099, 37.15, 25.50, 39.21, 34.74, 24.71\n",
      " 100, 37.73, 25.62, 39.67, 34.65, 24.61\n",
      " 101, 37.41, 25.99, 39.63, 30.64, 24.58\n",
      " 102, 36.69, 26.35, 39.69, 29.64, 24.60\n",
      " 103, 37.18, 26.70, 39.49, 31.56, 24.67\n",
      " 104, 36.00, 27.05, 39.19, 32.08, 24.76\n",
      " 105, 36.92, 27.41, 39.52, 33.98, 24.63\n",
      " 106, 34.67, 27.75, 39.44, 27.22, 24.68\n",
      " 107, 37.08, 28.11, 39.48, 33.48, 24.54\n",
      " 108, 35.22, 28.45, 39.51, 29.14, 24.76\n",
      " 109, 36.56, 28.80, 38.99, 31.47, 24.55\n",
      " 110, 37.35, 29.16, 39.63, 31.17, 25.03\n",
      " 111, 36.83, 29.50, 39.66, 29.44, 24.76\n",
      " 112, 37.52, 29.85, 39.54, 32.60, 24.43\n",
      " 113, 34.03, 30.16, 39.06, 19.41, 24.54\n",
      "\n",
      "Solved in 113 episodes!\tAvg Score: 30.16, time: 2687.3501012325287\n",
      "End:  2019-01-23 02:48:58.848898\n"
     ]
    }
   ],
   "source": [
    "# Create new empty buffers to start training from scratch\n",
    "buffers = [ReplayBuffer(action_size, BUFFER_SIZE, BATCH_SIZE, random_seed),\n",
    "           ReplayBuffer(action_size, CACHE_SIZE, BATCH_SIZE, random_seed)]\n",
    "agent = DDPG(state_size=state_size, action_size=action_size, random_seed=23, \n",
    "              fc1_units=96, fc2_units=96)\n",
    "scores, averages, maxima, minima = ddpg(agent, buffers, n_episodes=130)"
   ]
  },
  {
   "cell_type": "markdown",
   "metadata": {},
   "source": [
    "### 9. Examine the training results"
   ]
  },
  {
   "cell_type": "code",
   "execution_count": 16,
   "metadata": {},
   "outputs": [
    {
     "data": {
      "image/png": "[encoded data removed]",
      "text/plain": [
       "<matplotlib.figure.Figure at 0x7f76d051c940>"
      ]
     },
     "metadata": {
      "needs_background": "light"
     },
     "output_type": "display_data"
    }
   ],
   "source": [
    "plt.plot(np.arange(1, len(scores)+1), scores)\n",
    "plt.plot(np.arange(1, len(averages)+1), averages)\n",
    "plt.plot(np.arange(1, len(maxima)+1), maxima)\n",
    "plt.plot(np.arange(1, len(minima)+1), minima)\n",
    "plt.ylabel('Score')\n",
    "plt.xlabel('Episode #')\n",
    "plt.legend(['EpAvg', 'GlAvg', 'Max', 'Min'], loc='upper left')\n",
    "plt.show()"
   ]
  }
 ],
 "metadata": {
  "kernelspec": {
   "display_name": "Python 3",
   "language": "python",
   "name": "python3"
  },
  "language_info": {
   "codemirror_mode": {
    "name": "ipython",
    "version": 3
   },
   "file_extension": ".py",
   "mimetype": "text/x-python",
   "name": "python",
   "nbconvert_exporter": "python",
   "pygments_lexer": "ipython3",
   "version": "3.6.3"
  }
 },
 "nbformat": 4,
 "nbformat_minor": 2
}
